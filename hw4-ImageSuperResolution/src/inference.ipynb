{
 "cells": [
  {
   "cell_type": "markdown",
   "metadata": {},
   "source": [
    "[![Google Colab](https://colab.research.google.com/assets/colab-badge.svg)](https://colab.research.google.com/github/idealo/image-super-resolution/blob/master/notebooks/ISR_Training_Tutorial.ipynb)"
   ]
  },
  {
   "cell_type": "code",
   "execution_count": 1,
   "metadata": {
    "colab": {},
    "colab_type": "code",
    "id": "KCd2ZuS4V6Z0"
   },
   "outputs": [
    {
     "name": "stdout",
     "output_type": "stream",
     "text": [
      "Making model...\n",
      "Load the model from ../checkpoints/model_20.pt\n",
      "\n",
      "Evaluation:\n",
      "100%|███████████████████████████████████████████| 14/14 [00:00<00:00, 26.50it/s]\n",
      "[Demo x3]\tPSNR: 0.000 (Best: 0.000 @epoch 1)\n",
      "Forward: 0.64s\n",
      "\n",
      "Saving...\n",
      "Total: 1.64s\n",
      "\n",
      "/media/apple/D/yutt/EDSR-PyTorch/experiment/test/results-Demo\n",
      "  adding: 00_pred.png (deflated 0%)\n",
      "  adding: 01_pred.png (deflated 0%)\n",
      "  adding: 02_pred.png (deflated 0%)\n",
      "  adding: 03_pred.png (deflated 0%)\n",
      "  adding: 04_pred.png (deflated 0%)\n",
      "  adding: 05_pred.png (deflated 0%)\n",
      "  adding: 06_pred.png (deflated 0%)\n",
      "  adding: 07_pred.png (deflated 0%)\n",
      "  adding: 08_pred.png (deflated 0%)\n",
      "  adding: 09_pred.png (deflated 0%)\n",
      "  adding: 10_pred.png (deflated 0%)\n",
      "  adding: 11_pred.png (deflated 0%)\n",
      "  adding: 12_pred.png (deflated 0%)\n",
      "  adding: 13_pred.png (deflated 0%)\n",
      "/media/apple/D/yutt/EDSR-PyTorch/src\n"
     ]
    }
   ],
   "source": [
    "# !python main.py --model EDSR --scale 3 --patch_size 72\\\n",
    "#     --save edsr_baseline_x3 --reset --dir_data ../dataset/\\\n",
    "#     --data_train HW4 --ext sep_reset --save_models\n",
    "\n",
    "\n",
    "!rm -r ../experiment/test/results-Demo/*\n",
    "!python main.py --data_test Demo --scale 3\\\n",
    "    --pre_train ../checkpoints/model_20.pt\\\n",
    "    --test_only --save_results\n",
    "\n",
    "%cd ../experiment/test/results-Demo/\n",
    "!for f in * ; do mv -- \"$f\" \"${f%_x3*}.${f##*.}\" ; done\n",
    "!for f in * ; do mv -- \"$f\" \"${f%.*}_pred.${f##*.}\" ; done\n",
    "!zip submission.zip *.png\n",
    "!mv submission.zip ../../../src/\n",
    "%cd ../../../src/"
   ]
  }
 ],
 "metadata": {
  "accelerator": "TPU",
  "colab": {
   "name": "ISR Traininig tutorial.ipynb",
   "provenance": [],
   "version": "0.3.2"
  },
  "kernelspec": {
   "display_name": "Python 3",
   "language": "python",
   "name": "python3"
  },
  "language_info": {
   "codemirror_mode": {
    "name": "ipython",
    "version": 3
   },
   "file_extension": ".py",
   "mimetype": "text/x-python",
   "name": "python",
   "nbconvert_exporter": "python",
   "pygments_lexer": "ipython3",
   "version": "3.8.3"
  }
 },
 "nbformat": 4,
 "nbformat_minor": 1
}
