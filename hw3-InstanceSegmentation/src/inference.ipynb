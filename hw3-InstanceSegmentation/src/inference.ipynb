{
  "cells": [
    {
      "cell_type": "markdown",
      "metadata": {
        "id": "ArOVFKCb0dgZ"
      },
      "source": [
        "### Code for generating submission file\n"
      ]
    },
    {
      "cell_type": "code",
      "execution_count": 1,
      "metadata": {},
      "outputs": [
        {
          "name": "stdout",
          "output_type": "stream",
          "text": [
            "/media/apple/D/yutt/Selected-Topics-in-Visual-Recognition-using-Deep-Learning-course/hw3-InstanceSegmentation/src/Swin-Transformer-Object-Detection\n",
            "apex is not installed\n",
            "apex is not installed\n",
            "apex is not installed\n",
            "apex is not installed\n",
            "tools/test.py:96: UserWarning: --options is deprecated in favor of --eval-options\n",
            "  warnings.warn('--options is deprecated in favor of --eval-options')\n",
            "loading annotations into memory...\n",
            "Done (t=0.00s)\n",
            "creating index...\n",
            "index created!\n",
            "/home/apple/anaconda3/envs/swintsfm/lib/python3.7/site-packages/torch/functional.py:445: UserWarning: torch.meshgrid: in an upcoming release, it will be required to pass the indexing argument. (Triggered internally at  /opt/conda/conda-bld/pytorch_1634272168290/work/aten/src/ATen/native/TensorShape.cpp:2157.)\n",
            "  return _VF.meshgrid(tensors, **kwargs)  # type: ignore[attr-defined]\n",
            "load checkpoint from local path: work_dirs/mask_rcnn_swin_s/RELEASE_best.pth\n",
            "[                                                  ] 0/6, elapsed: 0s, ETA:/home/apple/anaconda3/envs/swintsfm/lib/python3.7/site-packages/mmdet-2.11.0-py3.7.egg/mmdet/models/roi_heads/bbox_heads/bbox_head.py:353: UserWarning: Creating a tensor from a list of numpy.ndarrays is extremely slow. Please consider converting the list to a single numpy.ndarray with numpy.array() before converting to a tensor. (Triggered internally at  /opt/conda/conda-bld/pytorch_1634272168290/work/torch/csrc/utils/tensor_new.cpp:201.)\n",
            "  scale_factor = bboxes.new_tensor(scale_factor).unsqueeze(1).repeat(\n",
            "[>>>>>>>>>>>>>>>>>>>>>>>>>>>>>>>>>>>] 6/6, 1.5 task/s, elapsed: 4s, ETA:     0s\n",
            "Evaluating segm...\n",
            "Loading and preparing results...\n",
            "DONE (t=0.00s)\n",
            "creating index...\n",
            "index created!\n",
            "Running per image evaluation...\n",
            "Evaluate annotation type *segm*\n",
            "DONE (t=0.00s).\n",
            "Accumulating evaluation results...\n",
            "DONE (t=0.00s).\n",
            "Average Precision  (AP) @[ IoU=0.50:0.95 | area=   all | maxDets=100 ] = -1.000\n",
            "Average Precision  (AP) @[ IoU=0.50      | area=   all | maxDets=1000 ] = -1.000\n",
            "Average Precision  (AP) @[ IoU=0.75      | area=   all | maxDets=1000 ] = -1.000\n",
            "Average Precision  (AP) @[ IoU=0.50:0.95 | area= small | maxDets=1000 ] = -1.000\n",
            "Average Precision  (AP) @[ IoU=0.50:0.95 | area=medium | maxDets=1000 ] = -1.000\n",
            "Average Precision  (AP) @[ IoU=0.50:0.95 | area= large | maxDets=1000 ] = -1.000\n",
            "Average Recall     (AR) @[ IoU=0.50:0.95 | area=   all | maxDets=100 ] = -1.000\n",
            "Average Recall     (AR) @[ IoU=0.50:0.95 | area=   all | maxDets=300 ] = -1.000\n",
            "Average Recall     (AR) @[ IoU=0.50:0.95 | area=   all | maxDets=1000 ] = -1.000\n",
            "Average Recall     (AR) @[ IoU=0.50:0.95 | area= small | maxDets=1000 ] = -1.000\n",
            "Average Recall     (AR) @[ IoU=0.50:0.95 | area=medium | maxDets=1000 ] = -1.000\n",
            "Average Recall     (AR) @[ IoU=0.50:0.95 | area= large | maxDets=1000 ] = -1.000\n",
            "OrderedDict([('segm_mAP', -1.0), ('segm_mAP_50', -1.0), ('segm_mAP_75', -1.0), ('segm_mAP_s', -1.0), ('segm_mAP_m', -1.0), ('segm_mAP_l', -1.0), ('segm_mAP_copypaste', '-1.000 -1.000 -1.000 -1.000 -1.000 -1.000')])\n",
            "/media/apple/D/yutt/Selected-Topics-in-Visual-Recognition-using-Deep-Learning-course/hw3-InstanceSegmentation/src\n"
          ]
        }
      ],
      "source": [
        "%cd Swin-Transformer-Object-Detection\n",
        "\n",
        "# Inference\n",
        "!python tools/test.py \\\n",
        "    configs/nuclei/mask_rcnn_swin_s.py \\\n",
        "    work_dirs/mask_rcnn_swin_s/RELEASE_best.pth \\\n",
        "    --eval segm \\\n",
        "    --options \"jsonfile_prefix=./RELEASE_best\"\n",
        "\n",
        "# Rename to answer.json\n",
        "!rm RELEASE_best.bbox.json\n",
        "!mv RELEASE_best.segm.json ../answer.json\n",
        "\n",
        "%cd .."
      ]
    }
  ],
  "metadata": {
    "accelerator": "GPU",
    "colab": {
      "collapsed_sections": [],
      "name": "inference.ipynb",
      "provenance": []
    },
    "kernelspec": {
      "display_name": "Python 3",
      "name": "python3"
    },
    "language_info": {
      "codemirror_mode": {
        "name": "ipython",
        "version": 3
      },
      "file_extension": ".py",
      "mimetype": "text/x-python",
      "name": "python",
      "nbconvert_exporter": "python",
      "pygments_lexer": "ipython3",
      "version": "3.7.11"
    }
  },
  "nbformat": 4,
  "nbformat_minor": 0
}
